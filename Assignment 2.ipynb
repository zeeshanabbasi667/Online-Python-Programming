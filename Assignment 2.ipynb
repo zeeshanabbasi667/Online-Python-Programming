{
 "cells": [
  {
   "cell_type": "code",
   "execution_count": 1,
   "metadata": {},
   "outputs": [
    {
     "name": "stdout",
     "output_type": "stream",
     "text": [
      "enter your Mathematics marks out of 100: 70\n",
      "enter your Sociology  marks out of 100: 65\n",
      "enter your  Biolgy marks out of 100: 77\n",
      "enter your Islamiat marks out of 100: 86\n",
      "enter your Urdu marks out of 100: 56\n",
      "\n",
      "percentage: 70.8\n",
      "\n",
      "Grade \n",
      " B grade\n"
     ]
    }
   ],
   "source": [
    "\n",
    "a = int(input(\"enter your Mathematics marks out of 100: \"))\n",
    "b = int(input(\"enter your Sociology  marks out of 100: \"))\n",
    "c = int(input(\"enter your  Biolgy marks out of 100: \"))\n",
    "d = int(input(\"enter your Islamiat marks out of 100: \"))\n",
    "e = int(input(\"enter your Urdu marks out of 100: \"))\n",
    "\n",
    "total_marks = 500\n",
    "total_obtained_marks = a+b+c+d+e\n",
    "\n",
    "Percentile = (total_obtained_marks / total_marks) * 100\n",
    "print(f\"\\npercentage: {Percentile}\")\n",
    "\n",
    "if Percentile >=80 :\n",
    "    print (\"\\nGRADE \\n A grade\")\n",
    "elif (Percentile < 80) or (percentile >= 70):\n",
    "    print (\"\\nGrade \\n B grade\")\n",
    "else :\n",
    "    print (\"\\nGrade \\n Fail\")"
   ]
  },
  {
   "cell_type": "code",
   "execution_count": 2,
   "metadata": {},
   "outputs": [
    {
     "name": "stdout",
     "output_type": "stream",
     "text": [
      "Enter a Number: 56\n",
      "56 is an even number\n"
     ]
    }
   ],
   "source": [
    "\n",
    "n = int(input(\"Enter a Number: \"))\n",
    "\n",
    "if n==0:\n",
    "    print(f\"{n} is an even number\")\n",
    "elif n%2 == 0:\n",
    "    print(f\"{n} is an even number\")\n",
    "else: \n",
    "    print(f\"{n} is an odd number\")"
   ]
  },
  {
   "cell_type": "code",
   "execution_count": 3,
   "metadata": {},
   "outputs": [
    {
     "data": {
      "text/plain": [
       "10"
      ]
     },
     "execution_count": 3,
     "metadata": {},
     "output_type": "execute_result"
    }
   ],
   "source": [
    "n =[2,10,\"apple\",\"ball\",0.005,[8,16,17],\"car\" ,\"aeroplane\", \"icecream\",\"nothing_to_worry\"]\n",
    "len(n)\n"
   ]
  },
  {
   "cell_type": "code",
   "execution_count": 4,
   "metadata": {},
   "outputs": [
    {
     "name": "stdout",
     "output_type": "stream",
     "text": [
      "sum of integer values in list: 53\n"
     ]
    }
   ],
   "source": [
    "\n",
    "x= [2,10,\"apple\",\"ball\",8,16,17,\"car\"]\n",
    "v= 0\n",
    "for num in x:\n",
    "    if isinstance(num, int):\n",
    "        v+=num\n",
    "print(f\"sum of integer values in list: {v}\" )"
   ]
  },
  {
   "cell_type": "code",
   "execution_count": 6,
   "metadata": {},
   "outputs": [
    {
     "data": {
      "text/plain": [
       "399"
      ]
     },
     "execution_count": 6,
     "metadata": {},
     "output_type": "execute_result"
    }
   ],
   "source": [
    "h = [0,1,4,5,8,99,399,225,55]\n",
    "max(h)"
   ]
  },
  {
   "cell_type": "code",
   "execution_count": 7,
   "metadata": {},
   "outputs": [
    {
     "name": "stdout",
     "output_type": "stream",
     "text": [
      "[1, 1, 2, 3]\n"
     ]
    }
   ],
   "source": [
    "\n",
    "a = [1, 1, 2, 3, 5, 8, 13, 21, 34, 55, 89]\n",
    "v = []\n",
    "for num in a:\n",
    "    if num < 5:\n",
    "        v.append(num)\n",
    "print(v)"
   ]
  },
  {
   "cell_type": "code",
   "execution_count": null,
   "metadata": {},
   "outputs": [],
   "source": []
  }
 ],
 "metadata": {
  "kernelspec": {
   "display_name": "Python 3",
   "language": "python",
   "name": "python3"
  },
  "language_info": {
   "codemirror_mode": {
    "name": "ipython",
    "version": 3
   },
   "file_extension": ".py",
   "mimetype": "text/x-python",
   "name": "python",
   "nbconvert_exporter": "python",
   "pygments_lexer": "ipython3",
   "version": "3.7.4"
  }
 },
 "nbformat": 4,
 "nbformat_minor": 2
}
