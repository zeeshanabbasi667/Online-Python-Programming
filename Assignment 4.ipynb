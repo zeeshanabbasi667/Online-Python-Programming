{
 "cells": [
  {
   "cell_type": "code",
   "execution_count": 2,
   "metadata": {},
   "outputs": [
    {
     "name": "stdout",
     "output_type": "stream",
     "text": [
      "Zeeshan\n",
      "Abbasi\n",
      "23\n",
      "Karachi \n",
      "\n",
      "New key,value pair added: \n",
      " {'first_name': 'Zeeshan', 'last_name': 'Abbasi', 'Age': '23', 'city': 'Karachi', 'qualification': '2nd year'} \n",
      "\n",
      "Update qualification: \n",
      " {'first_name': 'Zeeshan', 'last_name': 'Abbasi', 'Age': '23', 'city': 'Karachi', 'qualification': 'BE in Telecom'} \n",
      "\n",
      "delete qualification key: \n",
      " {'first_name': 'Zeeshan', 'last_name': 'Abbasi', 'Age': '23', 'city': 'Karachi'}\n"
     ]
    }
   ],
   "source": [
    "person={\"first_name\":\"Zeeshan\",\"last_name\":\"Abbasi\",\"Age\":\"23\",\"city\":\"Karachi\"}\n",
    "\n",
    "# (i) Print each piece of information stored in your dictionary.\n",
    "print( person[\"first_name\"] )\n",
    "print( person[\"last_name\"] )\n",
    "print( person[\"Age\"] )\n",
    "print( person[\"city\"] ,\"\\n\")\n",
    "\n",
    "# (ii) Add a new key value pair about qualification.\n",
    "person[\"qualification\"] = \"2nd year\"\n",
    "print(\"New key,value pair added: \\n\",person,\"\\n\")\n",
    "\n",
    "# (iii) then update the qualification value to high academic level.\n",
    "person[\"qualification\"]=\"BE in Telecom\"\n",
    "print(\"Update qualification: \\n\" ,person,\"\\n\")\n",
    "\n",
    "# (iv) updated value delete.\n",
    "person.pop(\"qualification\")\n",
    "print(\"delete qualification key: \\n\",person)"
   ]
  },
  {
   "cell_type": "code",
   "execution_count": 3,
   "metadata": {},
   "outputs": [
    {
     "name": "stdout",
     "output_type": "stream",
     "text": [
      "KARACHI info:\n",
      " {'IN': 'PAKISTAN ', 'AKA': 'City Of Lights', 'Population': '15 million'} \n",
      "\n",
      "MANCHESTER info:\n",
      " {'IN': 'ENGLAND', 'AKA': 'textile powerhouse', 'Population': '2.813 million'} \n",
      "\n",
      "BARCELONA info:\n",
      " {'IN': 'SPAIN', 'AKA': 'Capital of SPAIN', 'Population': '5.515 million'}\n"
     ]
    }
   ],
   "source": [
    "\"\"\"(i) Use three cities as keys in your dictionary.\n",
    "Create a dictionary of information about each city and \n",
    "include the country that the city is in, its approximate population, and one fact about that city. \"\"\" \n",
    "\n",
    "cities={\n",
    "    \"karachi\":{\"IN\":\"PAKISTAN \",\"AKA\":\"City Of Lights\",\"Population\":\"15 million\"},\n",
    "    \"Manchester\":{\"IN\":\"ENGLAND\",\"AKA\":\"textile powerhouse\",\"Population\":\"2.813 million\"},\n",
    "    \"Barcelona\":{\"IN\":\"SPAIN\",\"AKA\":\"Capital of SPAIN\",\"Population\":\"5.515 million\"}\n",
    "       }\n",
    "\n",
    "print(\"KARACHI info:\\n\",cities[\"karachi\"],\"\\n\")\n",
    "print(\"MANCHESTER info:\\n\",cities['Manchester'],\"\\n\")\n",
    "print(\"BARCELONA info:\\n\",cities['Barcelona'])"
   ]
  },
  {
   "cell_type": "code",
   "execution_count": 4,
   "metadata": {},
   "outputs": [
    {
     "name": "stdout",
     "output_type": "stream",
     "text": [
      "enter your age: 23\n",
      "movie ticket is 15$\n"
     ]
    }
   ],
   "source": [
    "x=int(input(\"enter your age: \"))\n",
    "\n",
    "while True:\n",
    "    if x<3:\n",
    "        print(\"free\")\n",
    "        break\n",
    "    elif x>=3 and x<12:\n",
    "        print(\"movie ticket is 10$\")\n",
    "        break\n",
    "    else:\n",
    "        print(\"movie ticket is 15$\")\n",
    "        break"
   ]
  },
  {
   "cell_type": "code",
   "execution_count": 5,
   "metadata": {},
   "outputs": [
    {
     "name": "stdout",
     "output_type": "stream",
     "text": [
      "One of my favourites books is Alice in Wonderland\n",
      "One of my favourites books is Alice in Wonderland\n",
      "One of my favourites books is Alice in Wonderland\n"
     ]
    }
   ],
   "source": [
    "def Favourite_books(title=\"Alice\"):\n",
    "    return(\"One of my favourites books is Alice in Wonderland\")\n",
    "\n",
    "h = Favourite_books(\"python for begginers\")\n",
    "print(h)\n",
    "\n",
    "print(Favourite_books(4))\n",
    "print(Favourite_books(\"a\"))"
   ]
  },
  {
   "cell_type": "code",
   "execution_count": 6,
   "metadata": {},
   "outputs": [
    {
     "name": "stdout",
     "output_type": "stream",
     "text": [
      "you have only three chances\n",
      "1st chance\n",
      "guess a number between 1,30: 2\n",
      "ops! you guess the wrong number.\n",
      " the number you choose is lesser than the number.\n",
      "\n",
      "2nd chance\n",
      "guess a number between 1,30: 3\n",
      "ops! you guess the wrong number.\n",
      " the number you choose is lesser than the number.\n",
      "\n",
      "last chance \n",
      "guess a number between 1,30: 15\n",
      "ops! you guess the wrong number.\n",
      " the number you choose is lesser than the number.\n",
      "\n",
      "Right number is:  24\n"
     ]
    }
   ],
   "source": [
    "print(\"you have only three chances\")\n",
    "\n",
    "from random import randint \n",
    "num_selected = randint(1,30)# select randon number\n",
    "\n",
    "for Q in range(0,3):\n",
    "    #chances\n",
    "    if Q==0:\n",
    "        print(\"1st chance\")\n",
    "    elif Q==1:\n",
    "        print(\"2nd chance\")\n",
    "    else :\n",
    "        print(\"last chance \")\n",
    "    \n",
    "    a = int(input(\"guess a number between 1,30: \"))\n",
    "    \n",
    "    #decision\n",
    "    if a== num_selected:\n",
    "        print(\"you guess correctly \\n  WINS \\n\")\n",
    "        break\n",
    "    elif a> num_selected:\n",
    "        print(\"ops! you guess the wrong number.\\n the number you choose is greater than the number.\\n\")\n",
    "    elif a<num_selected:\n",
    "        print(\"ops! you guess the wrong number.\\n the number you choose is lesser than the number.\\n\")\n",
    "        \n",
    "print( \"Right number is: \", num_selected )"
   ]
  },
  {
   "cell_type": "code",
   "execution_count": null,
   "metadata": {},
   "outputs": [],
   "source": []
  }
 ],
 "metadata": {
  "kernelspec": {
   "display_name": "Python 3",
   "language": "python",
   "name": "python3"
  },
  "language_info": {
   "codemirror_mode": {
    "name": "ipython",
    "version": 3
   },
   "file_extension": ".py",
   "mimetype": "text/x-python",
   "name": "python",
   "nbconvert_exporter": "python",
   "pygments_lexer": "ipython3",
   "version": "3.7.4"
  }
 },
 "nbformat": 4,
 "nbformat_minor": 2
}
