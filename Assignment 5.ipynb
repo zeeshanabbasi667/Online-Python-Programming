{
 "cells": [
  {
   "cell_type": "code",
   "execution_count": 1,
   "metadata": {},
   "outputs": [
    {
     "name": "stdout",
     "output_type": "stream",
     "text": [
      "The factorial of 4 is: 24\n"
     ]
    }
   ],
   "source": [
    "# 3!= 1*2*3=6\n",
    "def factorial(n):\n",
    "    x = 1\n",
    "    if n < 0:\n",
    "        print(\"Sorry, factorial does not exist for negative numbers\")\n",
    "    elif n == 0:\n",
    "        print(\"The factorial of 0 is: 1\")\n",
    "    else:\n",
    "        for _ in range(2,n + 1):\n",
    "            x *= _\n",
    "        print(\"The factorial of\",n,\"is:\",x)\n",
    "        \n",
    "        \n",
    "factorial(4)"
   ]
  },
  {
   "cell_type": "code",
   "execution_count": 2,
   "metadata": {},
   "outputs": [
    {
     "name": "stdout",
     "output_type": "stream",
     "text": [
      "Original String :  asdhREWQ\n",
      "No. of Lower case Characters : 4\n",
      "No. of Lower case Characters : 4\n"
     ]
    }
   ],
   "source": [
    "def count_alphabeates(s):\n",
    "    smaller=[]\n",
    "    capitals=[]\n",
    "    for i in s:\n",
    "        if i==i.upper():\n",
    "            capitals.append(i)\n",
    "        elif i==i.lower():\n",
    "            smaller.append(i)\n",
    "        else:\n",
    "            pass\n",
    "    print (\"Original String : \", s)\n",
    "    print(f\"No. of Lower case Characters : {len(smaller)}\")\n",
    "    print(f\"No. of Lower case Characters : {len(capitals)}\")\n",
    "\n",
    "count_alphabeates(\"asdhREWQ\")"
   ]
  },
  {
   "cell_type": "code",
   "execution_count": 3,
   "metadata": {},
   "outputs": [
    {
     "name": "stdout",
     "output_type": "stream",
     "text": [
      "Even numbers in the list:  [44, 66]\n"
     ]
    }
   ],
   "source": [
    "def even_numbers(sequence):\n",
    "    x=[]\n",
    "    for num in sequence:\n",
    "        if num % 2==0:\n",
    "            x.append(num)\n",
    "    print(\"Even numbers in the list: \",x) \n",
    "\n",
    "even_numbers([11, 3, 44, 66, 39])"
   ]
  },
  {
   "cell_type": "code",
   "execution_count": 4,
   "metadata": {},
   "outputs": [
    {
     "name": "stdout",
     "output_type": "stream",
     "text": [
      "This word is palindrome: madam\n",
      "Chosing word is not palindrome\n",
      "This word is palindrome: civic\n"
     ]
    }
   ],
   "source": [
    "def palindrome(s):\n",
    "    s.lower()\n",
    "    if s[::1]==s[::-1]:\n",
    "        print(\"This word is palindrome:\",s[::-1])\n",
    "    else:\n",
    "        print(\"Chosing word is not palindrome\")\n",
    "        \n",
    "        \n",
    "palindrome(\"madam\")\n",
    "palindrome(\"telnet\")\n",
    "palindrome(\"civic\")"
   ]
  },
  {
   "cell_type": "code",
   "execution_count": 5,
   "metadata": {},
   "outputs": [
    {
     "name": "stdout",
     "output_type": "stream",
     "text": [
      "23 is a prime number\n",
      "2 is not a prime number\n",
      "13 is a prime number\n",
      "59 is a prime number\n"
     ]
    }
   ],
   "source": [
    "def check_for_prime(integer):\n",
    "    if integer >2:\n",
    "        \n",
    "        for i in range(3,13):\n",
    "            if integer%i ==0:\n",
    "                print(integer,\"is not a prime number\")\n",
    "                break\n",
    "            else:\n",
    "                print(integer,\"is a prime number\")\n",
    "                break\n",
    "    else:\n",
    "        print(integer,\"is not a prime number\")\n",
    "        \n",
    "            \n",
    "check_for_prime(23)\n",
    "check_for_prime(2)\n",
    "check_for_prime(13)\n",
    "check_for_prime(59)"
   ]
  },
  {
   "cell_type": "code",
   "execution_count": 6,
   "metadata": {},
   "outputs": [
    {
     "name": "stdout",
     "output_type": "stream",
     "text": [
      "item you buy:  mango\n",
      "item you buy:  apple\n",
      "item you buy:  rice\n",
      "item you buy:  juice\n",
      "item you buy:  masalas\n"
     ]
    }
   ],
   "source": [
    "def grocery_list(*items):\n",
    "    for j in items:\n",
    "        print('item you buy: ',j)\n",
    "        \n",
    "\n",
    "grocery_list( \"mango\",\"apple\",\"rice\",\"juice\",\"masalas\" )"
   ]
  },
  {
   "cell_type": "code",
   "execution_count": null,
   "metadata": {},
   "outputs": [],
   "source": []
  }
 ],
 "metadata": {
  "kernelspec": {
   "display_name": "Python 3",
   "language": "python",
   "name": "python3"
  },
  "language_info": {
   "codemirror_mode": {
    "name": "ipython",
    "version": 3
   },
   "file_extension": ".py",
   "mimetype": "text/x-python",
   "name": "python",
   "nbconvert_exporter": "python",
   "pygments_lexer": "ipython3",
   "version": "3.7.4"
  }
 },
 "nbformat": 4,
 "nbformat_minor": 2
}
