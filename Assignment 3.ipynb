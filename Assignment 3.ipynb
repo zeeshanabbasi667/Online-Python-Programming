{
 "cells": [
  {
   "cell_type": "code",
   "execution_count": 2,
   "metadata": {},
   "outputs": [
    {
     "name": "stdout",
     "output_type": "stream",
     "text": [
      "enter a first number: 80\n",
      "enter a second number: 98\n",
      "enter an operator: +\n",
      "Sum of 80 , 98 : 178\n"
     ]
    }
   ],
   "source": [
    "x = int(input (\"enter a first number: \"))\n",
    "y = int(input (\"enter a second number: \"))\n",
    "\n",
    "z = input(\"enter an operator: \")\n",
    "\n",
    "if z == \"+\":\n",
    "    print(f\"Sum of {x} , {y} :\",x+y)\n",
    "elif z == \"-\":\n",
    "    print(f\"Differnce of {x} , {y} :\",x-y)\n",
    "elif z== \"/\":\n",
    "    print(f\"Division of {x} , {y} :\",round(x/y,2))\n",
    "elif z== \"*\":\n",
    "    print(f\"Multiplication of {x} , {y} :\",x*y)\n",
    "elif z== \"^\":\n",
    "    print(f\"power {x} to the {y} power: \",x**y)\n",
    "else:\n",
    "    print(f\"{z} :operator is not supported\")"
   ]
  },
  {
   "cell_type": "code",
   "execution_count": 3,
   "metadata": {},
   "outputs": [
    {
     "name": "stdout",
     "output_type": "stream",
     "text": [
      "There is a numeric value\n"
     ]
    }
   ],
   "source": [
    "l = [\"Engineering\",\"PAKISTAN\",5]\n",
    "for x in (l):\n",
    "    if ( int == type(x) or float == type(x) ):\n",
    "        print(\"There is a numeric value\")"
   ]
  },
  {
   "cell_type": "code",
   "execution_count": 4,
   "metadata": {},
   "outputs": [
    {
     "name": "stdout",
     "output_type": "stream",
     "text": [
      "before editting : {'PAKISTAN': 'Beautiful', 'Prime Minister': 'Imran khan'}\n",
      "\n",
      "after editting : {'PAKISTAN': 'Beautiful', 'Prime Minister': 'Imran khan', 'President': 'Arif Alvi'}\n"
     ]
    }
   ],
   "source": [
    "\n",
    "my_dict= {\"PAKISTAN\":'Beautiful',\"Prime Minister\":\"Imran khan\"}\n",
    "\n",
    "print(f\"before editting : {my_dict}\\n\")\n",
    "\n",
    "my_dict[\"President\"] = \"Arif Alvi\"\n",
    "\n",
    "print(f\"after editting : {my_dict}\")\n"
   ]
  },
  {
   "cell_type": "code",
   "execution_count": 5,
   "metadata": {},
   "outputs": [
    {
     "name": "stdout",
     "output_type": "stream",
     "text": [
      "sum of all numeric keys is:  0\n",
      "sum of all numeric values is:  35\n"
     ]
    }
   ],
   "source": [
    "my_dict ={\"Car\":10,\"House\":25,\"65\":\"body_weight\"}\n",
    "\n",
    "sum_key = []\n",
    "sum_values = []\n",
    "\n",
    "for x,y in my_dict.items():\n",
    "    if type(x) != str:\n",
    "        sum_key.append(x)\n",
    "    if type(y) != str:\n",
    "        sum_values.append(y)\n",
    "        \n",
    "print(\"sum of all numeric keys is: \",sum(sum_key))\n",
    "print(\"sum of all numeric values is: \",sum(sum_values))"
   ]
  },
  {
   "cell_type": "code",
   "execution_count": 6,
   "metadata": {},
   "outputs": [
    {
     "name": "stdout",
     "output_type": "stream",
     "text": [
      "duplicate values exist\n"
     ]
    }
   ],
   "source": [
    "l = [0,1,2,2,4,5,\"Pakistan\",\"Pakistan\"]\n",
    "d=[]\n",
    "for x in range(len(l)):\n",
    "    if l[x] not in d:\n",
    "        d.append(l[x])\n",
    "        \n",
    "if len(l) == len(d):\n",
    "        print(\"there is no duplicate values\")\n",
    "else:\n",
    "    print(\"duplicate values exist\")\n"
   ]
  },
  {
   "cell_type": "code",
   "execution_count": 7,
   "metadata": {},
   "outputs": [
    {
     "name": "stdout",
     "output_type": "stream",
     "text": [
      "2\n"
     ]
    },
    {
     "data": {
      "text/plain": [
       "{'copper': 'cu', 'House': 'bricks'}"
      ]
     },
     "execution_count": 7,
     "metadata": {},
     "output_type": "execute_result"
    }
   ],
   "source": [
    "my_dict = {\"copper\":\"wiring\",\"House\":\"bricks\",\"copper\":\"cu\"} \n",
    "print(len (my_dict))\n",
    "my_dict\n"
   ]
  },
  {
   "cell_type": "code",
   "execution_count": null,
   "metadata": {},
   "outputs": [],
   "source": []
  }
 ],
 "metadata": {
  "kernelspec": {
   "display_name": "Python 3",
   "language": "python",
   "name": "python3"
  }
 },
 "nbformat": 4,
 "nbformat_minor": 2
}
