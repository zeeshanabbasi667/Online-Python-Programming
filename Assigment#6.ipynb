{
 "cells": [
  {
   "cell_type": "markdown",
   "metadata": {},
   "source": [
    "### Question 1:\n",
    "Define Object Oriented Programming Language?\n"
   ]
  },
  {
   "cell_type": "markdown",
   "metadata": {},
   "source": [
    "### ANS\n",
    "Object-oriented programming (OOP) refers to a type of computer programming (software design) in which programmers define the data type of a data structure, and also the types of operations (functions) that can be applied to the data structure.\n",
    "\n",
    "In this way, the data structure becomes an object that includes both data and functions. In addition, programmers can create relationships between one object and another. For example, objects can inherit characteristics from other objects."
   ]
  },
  {
   "cell_type": "markdown",
   "metadata": {},
   "source": [
    "### Question 2:\n",
    "List down the Benefits of OOP?"
   ]
  },
  {
   "cell_type": "markdown",
   "metadata": {},
   "source": [
    "### ANS\n",
    "One of the principal advantages of object-oriented programming techniques over procedural programming techniques is that they enable programmers to create modules that do not need to be changed when a new type of object is added. A programmer can simply create a new object that inherits many of its features from existing objects. This makes object-oriented programs easier to modify."
   ]
  },
  {
   "cell_type": "markdown",
   "metadata": {},
   "source": [
    "### Question 3:\n",
    "Differentiate between function and method?"
   ]
  },
  {
   "cell_type": "markdown",
   "metadata": {},
   "source": [
    "### ANS\n",
    "#### function:\n",
    "Python function is a sequence of statements that execute in a certain order, given a name. They let us implement code reusability. When we talked about Python Functions, we talked about built-in and user-defined functions.<br>def add(a,b):<br>return a+b<br>add(3,-3)\n",
    "#### method:\n",
    "Python method is like a function, except it is attached to an object. We call a method on an object, and it possibly makes changes to that object. A method, then, belongs to a class.\n"
   ]
  },
  {
   "cell_type": "markdown",
   "metadata": {},
   "source": [
    "### Question 4:\n",
    "Define the following terms:\n",
    "1. Class\n",
    "2. Object\n",
    "3. Attribute\n",
    "4. Behavior"
   ]
  },
  {
   "cell_type": "markdown",
   "metadata": {},
   "source": [
    "### ANS\n",
    "#### Class:\n",
    "A category of objects. The class defines all the common properties of the different objects that belong to it.\n",
    "#### Object:\n",
    "a self-contained entity that consists of both data and procedures to manipulate the data.\n",
    "#### Atribute:\n",
    "A class attribute is a Python variable that belongs to a class rather than a particular object. It is shared between all the objects of this class and it is defined outside the constructor function of the class.\n",
    "#### Behaviour:\n",
    "..."
   ]
  },
  {
   "cell_type": "markdown",
   "metadata": {},
   "source": [
    "### Question 5:\n",
    "Write a code in python in which create a class named it Car which have 5 attributes such like (model, color and name etc.) and 3 methods. And create 5 object instance from that class."
   ]
  },
  {
   "cell_type": "code",
   "execution_count": 4,
   "metadata": {},
   "outputs": [
    {
     "name": "stdout",
     "output_type": "stream",
     "text": [
      "civic\n",
      "black\n",
      "2018\n",
      "hydraulics\n",
      "197hp\n",
      "Nisaan\n",
      "\n",
      "updated name:\n",
      " huxi.___\n",
      "Hello my car name is civic\n"
     ]
    }
   ],
   "source": [
    "class Cars():\n",
    "    def __init__(self,name,color,model,brake,speed):\n",
    "        self.name = name\n",
    "        self.color= color\n",
    "        self.model= model\n",
    "        self.brake= brake\n",
    "        self.speed= speed\n",
    "        self.company_name=\"Nisaan\"\n",
    "    \n",
    "    def update_companyname(x,newname):\n",
    "        x.company_name = newname\n",
    "        \n",
    "    def myfunc(self):\n",
    "        print(\"Hello my car name is \" + self.name)\n",
    "        \n",
    "        \n",
    "instance_1 = Cars('civic','black',2018,'hydraulics','197hp')\n",
    "\n",
    "\n",
    "print(instance_1.name)\n",
    "print(instance_1.color)\n",
    "print(instance_1.model)\n",
    "print(instance_1.brake)\n",
    "print(instance_1.speed)\n",
    "print(instance_1.company_name)\n",
    "print('\\nupdated name:',)\n",
    "\n",
    "instance_1.update_companyname(' huxi.___')\n",
    "print(instance_1.company_name)\n",
    "\n",
    "instance_1.myfunc()\n",
    "\n"
   ]
  },
  {
   "cell_type": "code",
   "execution_count": null,
   "metadata": {},
   "outputs": [],
   "source": []
  }
 ],
 "metadata": {
  "kernelspec": {
   "display_name": "Python 3",
   "language": "python",
   "name": "python3"
  },
  "language_info": {
   "codemirror_mode": {
    "name": "ipython",
    "version": 3
   },
   "file_extension": ".py",
   "mimetype": "text/x-python",
   "name": "python",
   "nbconvert_exporter": "python",
   "pygments_lexer": "ipython3",
   "version": "3.6.5"
  }
 },
 "nbformat": 4,
 "nbformat_minor": 2
}
